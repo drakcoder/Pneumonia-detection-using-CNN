{
 "cells": [
  {
   "cell_type": "code",
   "execution_count": 1,
   "id": "accessible-wright",
   "metadata": {},
   "outputs": [],
   "source": [
    "import numpy as np\n",
    "import cv2"
   ]
  },
  {
   "cell_type": "code",
   "execution_count": 51,
   "id": "western-annotation",
   "metadata": {},
   "outputs": [],
   "source": [
    "X_train=np.load('npy data/train/images.npy')\n",
    "trainy=np.load('npy data/train/labels.npy')\n",
    "X_test=np.load('npy data/test/images.npy')\n",
    "testy=np.load('npy data/test/labels.npy')"
   ]
  },
  {
   "cell_type": "code",
   "execution_count": 52,
   "id": "adaptive-variable",
   "metadata": {},
   "outputs": [],
   "source": [
    "trainx=list()\n",
    "Y_train=list()\n",
    "testx=list()\n",
    "Y_test=list()\n",
    "for i in X_train:\n",
    "    i=cv2.GaussianBlur(i,(5,5),cv2.BORDER_DEFAULT)\n",
    "    trainx.append(cv2.cvtColor(i,cv2.COLOR_BGR2GRAY))\n",
    "for i in X_test:\n",
    "    i=cv2.GaussianBlur(i,(5,5),cv2.BORDER_DEFAULT)\n",
    "    trainx.append(cv2.cvtColor(i,cv2.COLOR_BGR2GRAY))\n",
    "for i in trainy:\n",
    "    Y_train.append(i)\n",
    "for i in testy:\n",
    "    Y_train.append(i)\n",
    "X_train=np.array(trainx)\n",
    "trainy=np.array(Y_train)\n",
    "X_test=np.array(testx)\n",
    "testy=np.array(Y_test)"
   ]
  },
  {
   "cell_type": "code",
   "execution_count": 53,
   "id": "endless-resolution",
   "metadata": {},
   "outputs": [],
   "source": [
    "X_train=X_train/255\n",
    "X_test=X_test/255"
   ]
  },
  {
   "cell_type": "code",
   "execution_count": 5,
   "id": "ranking-victim",
   "metadata": {},
   "outputs": [],
   "source": [
    "from sklearn.metrics import confusion_matrix,classification_report\n",
    "from sklearn.utils.class_weight import compute_class_weight\n",
    "from sklearn.model_selection import train_test_split"
   ]
  },
  {
   "cell_type": "code",
   "execution_count": 6,
   "id": "suited-domestic",
   "metadata": {},
   "outputs": [],
   "source": [
    "X_train,X_test,trainy,testy=train_test_split(X_train,trainy,test_size=0.2,random_state=420)"
   ]
  },
  {
   "cell_type": "code",
   "execution_count": 25,
   "id": "varied-portable",
   "metadata": {},
   "outputs": [],
   "source": [
    "from keras.utils import np_utils,to_categorical\n",
    "from keras.models import Sequential\n",
    "from keras.layers import Conv2D,MaxPooling2D,Dense,Flatten,Dropout\n",
    "from keras.applications import VGG16\n",
    "import keras.backend as K"
   ]
  },
  {
   "cell_type": "code",
   "execution_count": 8,
   "id": "phantom-thinking",
   "metadata": {},
   "outputs": [
    {
     "data": {
      "text/plain": [
       "(4672, 150, 150)"
      ]
     },
     "execution_count": 8,
     "metadata": {},
     "output_type": "execute_result"
    }
   ],
   "source": [
    "X_train.shape"
   ]
  },
  {
   "cell_type": "code",
   "execution_count": 9,
   "id": "electric-conservation",
   "metadata": {},
   "outputs": [
    {
     "data": {
      "text/plain": [
       "array([1.88387097, 0.68065268])"
      ]
     },
     "execution_count": 9,
     "metadata": {},
     "output_type": "execute_result"
    }
   ],
   "source": [
    "compute_class_weight(class_weight='balanced',classes=[0,1],y=trainy)"
   ]
  },
  {
   "cell_type": "code",
   "execution_count": 10,
   "id": "moral-novel",
   "metadata": {},
   "outputs": [],
   "source": [
    "Y_train=to_categorical(trainy,2)\n",
    "Y_test=to_categorical(testy,2)"
   ]
  },
  {
   "cell_type": "code",
   "execution_count": 11,
   "id": "owned-contents",
   "metadata": {},
   "outputs": [],
   "source": [
    "X_train=X_train.reshape(-1,150,150,1)\n",
    "X_test=X_test.reshape(-1,150,150,1)"
   ]
  },
  {
   "cell_type": "code",
   "execution_count": 32,
   "id": "accessory-accent",
   "metadata": {},
   "outputs": [],
   "source": [
    "def my_filter(shape, dtype=None):\n",
    "\n",
    "    f = np.array([\n",
    "            [[[1]], [[-1]], [[0]]],\n",
    "            [[[-1]], [[6]], [[-1]]],\n",
    "            [[[0]], [[-1]], [[0]]]\n",
    "        ])\n",
    "#     print(shape)\n",
    "    assert f.shape == shape\n",
    "    return K.variable(f, dtype='float32')"
   ]
  },
  {
   "cell_type": "code",
   "execution_count": 33,
   "id": "statewide-issue",
   "metadata": {},
   "outputs": [
    {
     "name": "stdout",
     "output_type": "stream",
     "text": [
      "Model: \"sequential_12\"\n",
      "_________________________________________________________________\n",
      "Layer (type)                 Output Shape              Param #   \n",
      "=================================================================\n",
      "conv2d_10 (Conv2D)           (None, 150, 150, 1)       10        \n",
      "_________________________________________________________________\n",
      "max_pooling2d_3 (MaxPooling2 (None, 75, 75, 1)         0         \n",
      "_________________________________________________________________\n",
      "conv2d_11 (Conv2D)           (None, 75, 75, 32)        160       \n",
      "_________________________________________________________________\n",
      "max_pooling2d_4 (MaxPooling2 (None, 37, 37, 32)        0         \n",
      "_________________________________________________________________\n",
      "conv2d_12 (Conv2D)           (None, 37, 37, 64)        8256      \n",
      "_________________________________________________________________\n",
      "max_pooling2d_5 (MaxPooling2 (None, 18, 18, 64)        0         \n",
      "_________________________________________________________________\n",
      "dropout_2 (Dropout)          (None, 18, 18, 64)        0         \n",
      "_________________________________________________________________\n",
      "flatten_1 (Flatten)          (None, 20736)             0         \n",
      "_________________________________________________________________\n",
      "dense_2 (Dense)              (None, 500)               10368500  \n",
      "_________________________________________________________________\n",
      "dropout_3 (Dropout)          (None, 500)               0         \n",
      "_________________________________________________________________\n",
      "dense_3 (Dense)              (None, 2)                 1002      \n",
      "=================================================================\n",
      "Total params: 10,377,928\n",
      "Trainable params: 10,377,928\n",
      "Non-trainable params: 0\n",
      "_________________________________________________________________\n"
     ]
    }
   ],
   "source": [
    "model=Sequential()\n",
    "model.add(Conv2D(filters=1,kernel_size=3,kernel_initializer=my_filter,padding='same',activation='relu',input_shape=(150,150,1)))\n",
    "model.add(MaxPooling2D(pool_size=2))\n",
    "model.add(Conv2D(filters=32,kernel_size=2,padding='same',activation='relu'))\n",
    "model.add(MaxPooling2D(pool_size=2))\n",
    "model.add(Conv2D(filters=64,kernel_size=2,padding='same',activation='relu'))\n",
    "model.add(MaxPooling2D(pool_size=2))\n",
    "model.add(Dropout(0.2))\n",
    "model.add(Flatten())\n",
    "model.add(Dense(500,activation='relu'))\n",
    "model.add(Dropout(0.2))\n",
    "model.add(Dense(2,activation='softmax'))\n",
    "model.summary()"
   ]
  },
  {
   "cell_type": "code",
   "execution_count": 34,
   "id": "familiar-thompson",
   "metadata": {},
   "outputs": [],
   "source": [
    "model.compile(loss='categorical_crossentropy', optimizer='adam', metrics=['accuracy'])"
   ]
  },
  {
   "cell_type": "code",
   "execution_count": 35,
   "id": "informational-jerusalem",
   "metadata": {},
   "outputs": [
    {
     "name": "stdout",
     "output_type": "stream",
     "text": [
      "Epoch 1/20\n",
      "94/94 [==============================] - 28s 294ms/step - loss: 1.8627 - accuracy: 0.6764 - val_loss: 0.1882 - val_accuracy: 0.9298\n",
      "Epoch 2/20\n",
      "94/94 [==============================] - 27s 289ms/step - loss: 0.1850 - accuracy: 0.9270 - val_loss: 0.1617 - val_accuracy: 0.9341\n",
      "Epoch 3/20\n",
      "94/94 [==============================] - 29s 304ms/step - loss: 0.1567 - accuracy: 0.9382 - val_loss: 0.1646 - val_accuracy: 0.9443\n",
      "Epoch 4/20\n",
      "94/94 [==============================] - 27s 292ms/step - loss: 0.1476 - accuracy: 0.9414 - val_loss: 0.1507 - val_accuracy: 0.9409\n",
      "Epoch 5/20\n",
      "94/94 [==============================] - 26s 282ms/step - loss: 0.1269 - accuracy: 0.9532 - val_loss: 0.1442 - val_accuracy: 0.9443\n",
      "Epoch 6/20\n",
      "94/94 [==============================] - 26s 282ms/step - loss: 0.1308 - accuracy: 0.9512 - val_loss: 0.1403 - val_accuracy: 0.9461\n",
      "Epoch 7/20\n",
      "94/94 [==============================] - 27s 282ms/step - loss: 0.1024 - accuracy: 0.9609 - val_loss: 0.1468 - val_accuracy: 0.9409\n",
      "Epoch 8/20\n",
      "94/94 [==============================] - 27s 284ms/step - loss: 0.1066 - accuracy: 0.9604 - val_loss: 0.1392 - val_accuracy: 0.9452\n",
      "Epoch 9/20\n",
      "94/94 [==============================] - 27s 286ms/step - loss: 0.0885 - accuracy: 0.9677 - val_loss: 0.1325 - val_accuracy: 0.9495\n",
      "Epoch 10/20\n",
      "94/94 [==============================] - 28s 300ms/step - loss: 0.0949 - accuracy: 0.9678 - val_loss: 0.1356 - val_accuracy: 0.9512\n",
      "Epoch 11/20\n",
      "94/94 [==============================] - 27s 291ms/step - loss: 0.0812 - accuracy: 0.9684 - val_loss: 0.1362 - val_accuracy: 0.9452\n",
      "Epoch 12/20\n",
      "94/94 [==============================] - 27s 292ms/step - loss: 0.0869 - accuracy: 0.9677 - val_loss: 0.1436 - val_accuracy: 0.9435\n",
      "Epoch 13/20\n",
      "94/94 [==============================] - 28s 294ms/step - loss: 0.0787 - accuracy: 0.9656 - val_loss: 0.1480 - val_accuracy: 0.9461\n",
      "Epoch 14/20\n",
      "94/94 [==============================] - 27s 289ms/step - loss: 0.0687 - accuracy: 0.9739 - val_loss: 0.1397 - val_accuracy: 0.9452\n",
      "Epoch 15/20\n",
      "94/94 [==============================] - 29s 306ms/step - loss: 0.0582 - accuracy: 0.9779 - val_loss: 0.1394 - val_accuracy: 0.9563\n",
      "Epoch 16/20\n",
      "94/94 [==============================] - 27s 290ms/step - loss: 0.0710 - accuracy: 0.9738 - val_loss: 0.1966 - val_accuracy: 0.9452\n",
      "Epoch 17/20\n",
      "94/94 [==============================] - 28s 296ms/step - loss: 0.0538 - accuracy: 0.9788 - val_loss: 0.1458 - val_accuracy: 0.9503\n",
      "Epoch 18/20\n",
      "94/94 [==============================] - 27s 291ms/step - loss: 0.0312 - accuracy: 0.9909 - val_loss: 0.1512 - val_accuracy: 0.9563\n",
      "Epoch 19/20\n",
      "94/94 [==============================] - 28s 295ms/step - loss: 0.0388 - accuracy: 0.9870 - val_loss: 0.1649 - val_accuracy: 0.9521\n",
      "Epoch 20/20\n",
      "94/94 [==============================] - 27s 290ms/step - loss: 0.0456 - accuracy: 0.9830 - val_loss: 0.1691 - val_accuracy: 0.9409\n"
     ]
    },
    {
     "data": {
      "text/plain": [
       "<tensorflow.python.keras.callbacks.History at 0x188a472c640>"
      ]
     },
     "execution_count": 35,
     "metadata": {},
     "output_type": "execute_result"
    }
   ],
   "source": [
    "model.fit(X_train,Y_train,validation_data=(X_test,Y_test),batch_size=50,epochs=20,verbose=1)"
   ]
  },
  {
   "cell_type": "code",
   "execution_count": 36,
   "id": "impossible-drama",
   "metadata": {},
   "outputs": [
    {
     "name": "stdout",
     "output_type": "stream",
     "text": [
      "accuracy = 94.09246444702148\n"
     ]
    }
   ],
   "source": [
    "acc=model.evaluate(X_test,Y_test,verbose=0)[1]\n",
    "print('accuracy = '+str(acc*100))"
   ]
  },
  {
   "cell_type": "code",
   "execution_count": 37,
   "id": "neural-compatibility",
   "metadata": {},
   "outputs": [
    {
     "name": "stderr",
     "output_type": "stream",
     "text": [
      "c:\\python\\python38\\lib\\site-packages\\tensorflow\\python\\keras\\engine\\sequential.py:450: UserWarning: `model.predict_classes()` is deprecated and will be removed after 2021-01-01. Please use instead:* `np.argmax(model.predict(x), axis=-1)`,   if your model does multi-class classification   (e.g. if it uses a `softmax` last-layer activation).* `(model.predict(x) > 0.5).astype(\"int32\")`,   if your model does binary classification   (e.g. if it uses a `sigmoid` last-layer activation).\n",
      "  warnings.warn('`model.predict_classes()` is deprecated and '\n"
     ]
    }
   ],
   "source": [
    "pred=model.predict_classes(X_test)"
   ]
  },
  {
   "cell_type": "code",
   "execution_count": 38,
   "id": "instant-package",
   "metadata": {},
   "outputs": [
    {
     "name": "stdout",
     "output_type": "stream",
     "text": [
      "[[315  49]\n",
      " [ 20 784]]\n",
      "              precision    recall  f1-score   support\n",
      "\n",
      "           0       0.94      0.87      0.90       364\n",
      "           1       0.94      0.98      0.96       804\n",
      "\n",
      "    accuracy                           0.94      1168\n",
      "   macro avg       0.94      0.92      0.93      1168\n",
      "weighted avg       0.94      0.94      0.94      1168\n",
      "\n"
     ]
    }
   ],
   "source": [
    "print(confusion_matrix(pred,testy))\n",
    "print(classification_report(pred,testy))"
   ]
  },
  {
   "cell_type": "code",
   "execution_count": 39,
   "id": "talented-waterproof",
   "metadata": {},
   "outputs": [],
   "source": [
    "from keras.models import save_model,load_model"
   ]
  },
  {
   "cell_type": "code",
   "execution_count": 40,
   "id": "accurate-bronze",
   "metadata": {},
   "outputs": [],
   "source": [
    "model.save('models/model4.h5')"
   ]
  },
  {
   "cell_type": "code",
   "execution_count": 54,
   "id": "ancient-complement",
   "metadata": {},
   "outputs": [],
   "source": [
    "val_images=list()\n",
    "val=np.load('npy data/validation/images.npy')\n",
    "for i in val:\n",
    "    i=cv2.GaussianBlur(i,(5,5),cv2.BORDER_DEFAULT)\n",
    "    val_images.append(cv2.cvtColor(i,cv2.COLOR_BGR2GRAY))\n",
    "val_labels=np.load('npy data/validation/labels.npy')\n",
    "val=np.array(val_images)\n",
    "val=val/255\n",
    "val=val.reshape(-1,150,150,1)"
   ]
  },
  {
   "cell_type": "code",
   "execution_count": 55,
   "id": "radio-ukraine",
   "metadata": {},
   "outputs": [],
   "source": [
    "example=np.array([val[1]])"
   ]
  },
  {
   "cell_type": "code",
   "execution_count": 56,
   "id": "guided-thailand",
   "metadata": {},
   "outputs": [
    {
     "name": "stderr",
     "output_type": "stream",
     "text": [
      "c:\\python\\python38\\lib\\site-packages\\tensorflow\\python\\keras\\engine\\sequential.py:450: UserWarning: `model.predict_classes()` is deprecated and will be removed after 2021-01-01. Please use instead:* `np.argmax(model.predict(x), axis=-1)`,   if your model does multi-class classification   (e.g. if it uses a `softmax` last-layer activation).* `(model.predict(x) > 0.5).astype(\"int32\")`,   if your model does binary classification   (e.g. if it uses a `sigmoid` last-layer activation).\n",
      "  warnings.warn('`model.predict_classes()` is deprecated and '\n"
     ]
    },
    {
     "data": {
      "text/plain": [
       "array([0, 0, 0, 0, 0, 0, 0, 0, 1, 1, 1, 1, 1, 1, 1, 1], dtype=int64)"
      ]
     },
     "execution_count": 56,
     "metadata": {},
     "output_type": "execute_result"
    }
   ],
   "source": [
    "model.predict_classes(val)"
   ]
  },
  {
   "cell_type": "code",
   "execution_count": 44,
   "id": "angry-bottle",
   "metadata": {},
   "outputs": [
    {
     "data": {
      "text/plain": [
       "(1, 150, 150, 1)"
      ]
     },
     "execution_count": 44,
     "metadata": {},
     "output_type": "execute_result"
    }
   ],
   "source": [
    "example.shape"
   ]
  },
  {
   "cell_type": "code",
   "execution_count": 41,
   "id": "medieval-drawing",
   "metadata": {},
   "outputs": [
    {
     "data": {
      "text/plain": [
       "array([0, 0, 0, 0, 0, 0, 0, 0, 1, 1, 1, 1, 1, 1, 1, 1])"
      ]
     },
     "execution_count": 41,
     "metadata": {},
     "output_type": "execute_result"
    }
   ],
   "source": [
    "val_labels"
   ]
  },
  {
   "cell_type": "code",
   "execution_count": 195,
   "id": "prospective-payday",
   "metadata": {},
   "outputs": [],
   "source": [
    "im=cv2.imread(\"./download/normal/5.jpg\")"
   ]
  },
  {
   "cell_type": "code",
   "execution_count": 84,
   "id": "charming-peeing",
   "metadata": {},
   "outputs": [],
   "source": [
    "validation_images=np.load('npy data/validation2/images.npy')\n",
    "validation_labels=np.load('npy data/validation2/labels.npy')\n",
    "validation_labels_categorical=to_categorical(validation_labels,2)"
   ]
  },
  {
   "cell_type": "code",
   "execution_count": 81,
   "id": "future-watts",
   "metadata": {},
   "outputs": [
    {
     "name": "stderr",
     "output_type": "stream",
     "text": [
      "c:\\python\\python38\\lib\\site-packages\\tensorflow\\python\\keras\\engine\\sequential.py:450: UserWarning: `model.predict_classes()` is deprecated and will be removed after 2021-01-01. Please use instead:* `np.argmax(model.predict(x), axis=-1)`,   if your model does multi-class classification   (e.g. if it uses a `softmax` last-layer activation).* `(model.predict(x) > 0.5).astype(\"int32\")`,   if your model does binary classification   (e.g. if it uses a `sigmoid` last-layer activation).\n",
      "  warnings.warn('`model.predict_classes()` is deprecated and '\n"
     ]
    }
   ],
   "source": [
    "pred=model.predict_classes(validation_images)"
   ]
  },
  {
   "cell_type": "code",
   "execution_count": 85,
   "id": "jewish-extension",
   "metadata": {},
   "outputs": [
    {
     "name": "stdout",
     "output_type": "stream",
     "text": [
      "0.9356215596199036\n",
      "[[1516  310]\n",
      " [  67 3963]]\n",
      "              precision    recall  f1-score   support\n",
      "\n",
      "           0       0.96      0.83      0.89      1826\n",
      "           1       0.93      0.98      0.95      4030\n",
      "\n",
      "    accuracy                           0.94      5856\n",
      "   macro avg       0.94      0.91      0.92      5856\n",
      "weighted avg       0.94      0.94      0.93      5856\n",
      "\n"
     ]
    }
   ],
   "source": [
    "acc=model.evaluate(validation_images,validation_labels_categorical,verbose=0)[1]\n",
    "print(acc)\n",
    "print(confusion_matrix(pred,validation_labels))\n",
    "print(classification_report(pred,validation_labels))"
   ]
  },
  {
   "cell_type": "code",
   "execution_count": 196,
   "id": "phantom-franchise",
   "metadata": {},
   "outputs": [],
   "source": [
    "im=cv2.resize(im,(150,150),interpolation = cv2.INTER_NEAREST)\n",
    "im=cv2.cvtColor(im,cv2.COLOR_BGR2GRAY)\n",
    "im=im.reshape(-1,150,150,1)\n",
    "im=im/255"
   ]
  },
  {
   "cell_type": "code",
   "execution_count": 197,
   "id": "corporate-performance",
   "metadata": {},
   "outputs": [
    {
     "data": {
      "text/plain": [
       "array([1], dtype=int64)"
      ]
     },
     "execution_count": 197,
     "metadata": {},
     "output_type": "execute_result"
    }
   ],
   "source": [
    "model.predict_classes(im)"
   ]
  },
  {
   "cell_type": "code",
   "execution_count": 108,
   "id": "tracked-saying",
   "metadata": {},
   "outputs": [
    {
     "data": {
      "text/plain": [
       "(1, 5840, 150, 150)"
      ]
     },
     "execution_count": 108,
     "metadata": {},
     "output_type": "execute_result"
    }
   ],
   "source": [
    "np.array([X_train]).shape"
   ]
  },
  {
   "cell_type": "code",
   "execution_count": 8,
   "id": "reported-satisfaction",
   "metadata": {},
   "outputs": [],
   "source": [
    "model=load_model('finilized/gray(150,150)/b&w(150,150).h5')"
   ]
  },
  {
   "cell_type": "code",
   "execution_count": 75,
   "id": "expected-mouth",
   "metadata": {},
   "outputs": [],
   "source": [
    "im=cv2.imread(\"D:/Sairam Gundala/academics/kaggle/pneumonia/All/540270208.jpeg\")\n",
    "im=cv2.GaussianBlur(im,(5,5),cv2.BORDER_DEFAULT)\n",
    "im=cv2.resize(im,(150,150),interpolation = cv2.INTER_NEAREST)\n",
    "im=cv2.cvtColor(im,cv2.COLOR_BGR2GRAY)\n",
    "im=im.reshape(-1,150,150,1)\n",
    "im=im/255"
   ]
  },
  {
   "cell_type": "code",
   "execution_count": 76,
   "id": "legal-lloyd",
   "metadata": {},
   "outputs": [
    {
     "data": {
      "text/plain": [
       "array([0], dtype=int64)"
      ]
     },
     "execution_count": 76,
     "metadata": {},
     "output_type": "execute_result"
    }
   ],
   "source": [
    "model.predict_classes(im)"
   ]
  },
  {
   "cell_type": "code",
   "execution_count": null,
   "id": "overall-confusion",
   "metadata": {},
   "outputs": [],
   "source": []
  }
 ],
 "metadata": {
  "kernelspec": {
   "display_name": "Python 3",
   "language": "python",
   "name": "python3"
  },
  "language_info": {
   "codemirror_mode": {
    "name": "ipython",
    "version": 3
   },
   "file_extension": ".py",
   "mimetype": "text/x-python",
   "name": "python",
   "nbconvert_exporter": "python",
   "pygments_lexer": "ipython3",
   "version": "3.8.6"
  }
 },
 "nbformat": 4,
 "nbformat_minor": 5
}
